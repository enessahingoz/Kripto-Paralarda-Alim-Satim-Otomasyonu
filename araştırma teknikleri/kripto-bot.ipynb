{
 "cells": [
  {
   "cell_type": "code",
   "execution_count": 1,
   "metadata": {},
   "outputs": [],
   "source": [
    "import time\n",
    "import datetime as DT\n",
    "from datetime import datetime\n",
    "from binance.client import Client\n",
    "from binance.enums import *\n",
    "import pandas as pd\n",
    "import numpy as np\n",
    "import talib as ta\n",
    "import matplotlib.pyplot as plt\n",
    "api_key = \"***\"\n",
    "secret_key = \"***\""
   ]
  },
  {
   "cell_type": "code",
   "execution_count": null,
   "metadata": {},
   "outputs": [],
   "source": []
  },
  {
   "cell_type": "code",
   "execution_count": 2,
   "metadata": {},
   "outputs": [],
   "source": [
    "class BinanceConnection:\n",
    "    def __init__(self, file):\n",
    "        self.connect(file)\n",
    "\n",
    "    def connect(self, file):\n",
    "        key = \"***\"\n",
    "        secret = \"***\"\n",
    "        self.client = Client(key, secret,tld =\"com\", testnet=True)\n",
    "\n",
    "def generateTillsonT3(c_arr, h_arr, l_arr, hacim_faktoru, t3Length):\n",
    "\n",
    "    ema_first_input = (h_arr + l_arr + 2 * c_arr) / 4\n",
    "\n",
    "    ema1 = ta.EMA(ema_first_input, t3Length)\n",
    "\n",
    "    ema2 = ta.EMA(ema1, t3Length)\n",
    "\n",
    "    ema3 = ta.EMA(ema2, t3Length)\n",
    "\n",
    "    ema4 = ta.EMA(ema3, t3Length)\n",
    "\n",
    "    ema5 = ta.EMA(ema4, t3Length)\n",
    "\n",
    "    ema6 = ta.EMA(ema5, t3Length)\n",
    "\n",
    "    c1 = -1 * hacim_faktoru * hacim_faktoru * hacim_faktoru\n",
    "\n",
    "    c2 = 3 * hacim_faktoru * hacim_faktoru + 3 * hacim_faktoru * hacim_faktoru * hacim_faktoru\n",
    "\n",
    "    c3 = -6 * hacim_faktoru * hacim_faktoru - 3 * hacim_faktoru - 3 * hacim_faktoru * hacim_faktoru * hacim_faktoru\n",
    "\n",
    "    c4 = 1 + 3 * hacim_faktoru + hacim_faktoru * hacim_faktoru * hacim_faktoru + 3 * hacim_faktoru * hacim_faktoru\n",
    "\n",
    "    T3 = c1 * ema6 + c2 * ema5 + c3 * ema4 + c4 * ema3\n",
    "\n",
    "    return T3"
   ]
  },
  {
   "cell_type": "code",
   "execution_count": 3,
   "metadata": {},
   "outputs": [],
   "source": [
    "def MACD():\n",
    "    klines2 = client.get_klines(symbol=\"BTCUSDT\", interval='5m', limit='60')\n",
    "    Value = [float(entry[4]) for entry in klines2]\n",
    "    Value = pd.DataFrame(Value)\n",
    "    ema12 = Value.ewm(span=12).mean()\n",
    "    ema26 = Value.ewm(span=26).mean()\n",
    "    macd_deger = ema26 - ema12\n",
    "    signal = macd_deger.ewm(span=9).mean()\n",
    "\n",
    "    macd_deger = macd_deger.values.tolist()\n",
    "    signal = signal.values.tolist()\n",
    "    \n",
    "    if macd_deger[-1] > signal[-1] and macd_deger[-2] < signal[-2]:\n",
    "        macd_return = 'BUY'\n",
    "    elif macd_deger[-1] < signal[-1] and macd_deger[-2] > signal[-2]:\n",
    "        macd_return = 'SELL'\n",
    "    else:\n",
    "        macd_return = 'HOLD'\n",
    "\n",
    "    return macd_return"
   ]
  },
  {
   "cell_type": "code",
   "execution_count": 4,
   "metadata": {},
   "outputs": [],
   "source": [
    "def stopLoss():\n",
    "    tarih = DT.date.today()\n",
    "    lastweek = tarih - DT.timedelta(days=6)\n",
    "    lastweek = lastweek.strftime('%d %b, %Y')\n",
    "    deger = client.get_historical_klines(\"BTCUSDT\", Client.KLINE_INTERVAL_1DAY, str(lastweek))\n",
    "    enyuksek = [float(entry[2]) for entry in deger]\n",
    "    endusuk = [float(entry[3]) for entry in deger]\n",
    "    Value = [float(entry[4]) for entry in deger]\n",
    "    ortalamadeger = (sum(enyuksek)/len(enyuksek)-sum(endusuk)/len(endusuk))/(sum(Value)/len(Value))\n",
    "    sonhaftaort = Value[-2]*(1-ortalamadeger)\n",
    "    return sonhaftaort\n"
   ]
  },
  {
   "cell_type": "code",
   "execution_count": null,
   "metadata": {},
   "outputs": [],
   "source": [
    "\n"
   ]
  },
  {
   "cell_type": "code",
   "execution_count": 5,
   "metadata": {},
   "outputs": [],
   "source": [
    "\n",
    "client = Client(api_key = api_key, api_secret= secret_key, tld =\"com\", testnet=True)"
   ]
  },
  {
   "cell_type": "code",
   "execution_count": null,
   "metadata": {},
   "outputs": [
    {
     "name": "stdout",
     "output_type": "stream",
     "text": [
      "----------DATE----------||---BALANCE--||----------T3 VALUES-----------||--MACD--||------PRICE------||---STRATEGY---|\n",
      "Thu Jan 13 23:48:27 2022   1.00000000    t3_buy: False t3_sell: False     HOLD      42561.22000000       hold\n"
     ]
    }
   ],
   "source": [
    "print('----------DATE----------||---BALANCE--||----------T3 VALUES-----------||--MACD--||------PRICE------||---STRATEGY---|')\n",
    "while True:\n",
    "    # Price & Server Time\n",
    "    now = datetime.now()\n",
    "    coitime = now.strftime(\"%H:%M:%S\")\n",
    "    an = datetime.now()\n",
    "    tarih = datetime.ctime(an)\n",
    "    price = client.get_ticker(symbol=\"BTCUSDT\")\n",
    "    btcHesap = client.get_asset_balance(asset = \"BTCUSDT\")\n",
    " \n",
    "    klines = client.get_klines(symbol=\"BTCUSDT\", interval='5m', limit='500')\n",
    "    klines2 = client.get_historical_klines(\"BTCUSDT\", Client.KLINE_INTERVAL_1DAY, \"1 day ago UTC\")\n",
    "    close = [float(entry[4]) for entry in klines]\n",
    "    c_arr = np.asarray(close)\n",
    "    close_finished = c_arr[:-1]\n",
    "\n",
    "    \n",
    "    if __name__ == '__main__':\n",
    "        filename = 'credentials.txt'\n",
    "\n",
    "        connection = BinanceConnection(filename)\n",
    "\n",
    "        klines = connection.client.get_klines(symbol=\"BTCUSDT\", interval=\"5m\", limit=500)\n",
    "    \n",
    "        open_time = [int(entry[0]) for entry in klines]\n",
    "\n",
    "        open = [float(entry[1]) for entry in klines]\n",
    "        high = [float(entry[2]) for entry in klines]\n",
    "        low = [float(entry[3]) for entry in klines]\n",
    "        close = [float(entry[4]) for entry in klines]\n",
    "\n",
    "        c_arr = np.asarray(close)\n",
    "        h_arr = np.asarray(high)\n",
    "        l_arr = np.asarray(low)\n",
    "        hacimfaktoru = 0.7\n",
    "        t3length = 8\n",
    "        tillsont3 = generateTillsonT3(c_arr, h_arr, l_arr, hacim_faktoru=hacimfaktoru, t3Length=t3length)\n",
    "    \n",
    "    \n",
    "        t3_son = tillsont3[-1]\n",
    "        t3_onceki = tillsont3[-2]\n",
    "        t3_2_onceki = tillsont3[-3]\n",
    "        t3_buy=False\n",
    "        t3_sell=False   \n",
    "\n",
    "    # grafik kırmızıdan yeşile dönüyor\n",
    "        if t3_son > t3_onceki and t3_onceki < t3_2_onceki:\n",
    "            t3_buy=True  \n",
    "\n",
    "    # grafik yeşilden kırmızıya dönüyor\n",
    "        elif t3_son < t3_onceki and t3_onceki > t3_2_onceki:\n",
    "             t3_sell=True   \n",
    "    \n",
    "    balance = client.get_asset_balance(asset = \"BTC\")\n",
    "    coindeger = format(float(price['askPrice']), '.4f')\n",
    "    if (t3_sell==True and MACD() == 'SELL'):\n",
    "        stat = 'sell'\n",
    "        order = client.create_order(symbol = \"BTCUSDT\", side = \"SELL\", type = \"MARKET\", quantity = 0.05)         \n",
    "        time.sleep(30)\n",
    "            \n",
    "    elif float(coindeger) < stopLoss():\n",
    "        stat = 'STOPLOSS'\n",
    "        order = client.create_order(symbol = \"BTCUSDT\", side = \"SELL\", type = \"MARKET\", quantity = 0.05)\n",
    "        time.sleep(30)  \n",
    "   \n",
    "    elif (MACD() == 'BUY' and t3_buy==True):\n",
    "        stat = 'buy'\n",
    "        order = client.create_order(symbol = \"BTCUSDT\", side = \"BUY\", type = \"MARKET\", quantity = 0.05)\n",
    "        time.sleep(30)\n",
    "           \n",
    "    else:\n",
    "        stat = 'hold'  \n",
    "\n",
    "    # Print the values\n",
    "    print(tarih+'   ' + balance['free'] + '    ' +'t3_buy: '+str(t3_buy)+' t3_sell: '+str(t3_sell) + '     ' + MACD()\n",
    "              + '      ' + price['askPrice']  + '       ' + stat)\n",
    "    time.sleep(60)"
   ]
  },
  {
   "cell_type": "code",
   "execution_count": null,
   "metadata": {},
   "outputs": [],
   "source": [
    "   "
   ]
  },
  {
   "cell_type": "code",
   "execution_count": null,
   "metadata": {},
   "outputs": [],
   "source": []
  },
  {
   "cell_type": "code",
   "execution_count": null,
   "metadata": {},
   "outputs": [],
   "source": []
  },
  {
   "cell_type": "code",
   "execution_count": null,
   "metadata": {},
   "outputs": [],
   "source": []
  }
 ],
 "metadata": {
  "interpreter": {
   "hash": "ea3a551510009ebaabd93621fe4c5d1e76552c3a73a8b7ca0f349c8506c8798d"
  },
  "kernelspec": {
   "display_name": "Python 3 (ipykernel)",
   "language": "python",
   "name": "python3"
  },
  "language_info": {
   "codemirror_mode": {
    "name": "ipython",
    "version": 3
   },
   "file_extension": ".py",
   "mimetype": "text/x-python",
   "name": "python",
   "nbconvert_exporter": "python",
   "pygments_lexer": "ipython3",
   "version": "3.9.7"
  }
 },
 "nbformat": 4,
 "nbformat_minor": 2
}
